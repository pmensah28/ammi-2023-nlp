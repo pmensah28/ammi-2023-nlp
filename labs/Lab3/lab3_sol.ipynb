{
  "cells": [
    {
      "cell_type": "markdown",
      "metadata": {
        "id": "thobkiOZ76P9"
      },
      "source": [
        "\n",
        "<h1 style=\"font-family:verdana;font-size:300%;text-align:center;background-color:#f2f2f2;color:#0d0d0d\">AMMI_2024_NLP - Week 1</h1>\n",
        "\n",
        "<h1 style=\"font-family:verdana;font-size:180%;text-align:Center;color:#993333\"> Lab 3: N-gram models </h1>\n",
        "\n",
        "\n",
        "Before we start, please change the name of the notebook to the following format : **Firstname_LASTNAME_Lab3__N_gram_models.ipynb**\n",
        "\n",
        "\n",
        "In some cells and files you will see code blocks that look like this:\n",
        "\n",
        "```python\n",
        "##############################################################################\n",
        "#                    TODO: Write the equation for a line                     #\n",
        "##############################################################################\n",
        "pass\n",
        "##############################################################################\n",
        "#                              END OF YOUR CODE                              #\n",
        "##############################################################################\n",
        "```\n",
        "\n",
        "You should replace the `pass` statement with your own code and leave the blocks intact, like this:\n",
        "\n",
        "```python\n",
        "##############################################################################\n",
        "#                    TODO: Write the equation for a line                     #\n",
        "##############################################################################\n",
        "y = m * x + b\n",
        "##############################################################################\n",
        "#                              END OF YOUR CODE                              #\n",
        "##############################################################################\n",
        "```"
      ]
    },
    {
      "cell_type": "code",
      "execution_count": 4,
      "metadata": {
        "id": "AO2Q6hrQ76QC"
      },
      "outputs": [],
      "source": [
        "import io, sys, math, re\n",
        "from collections import defaultdict\n",
        "import numpy as np"
      ]
    },
    {
      "cell_type": "code",
      "execution_count": 5,
      "metadata": {
        "id": "wG9pqSoV76QD"
      },
      "outputs": [],
      "source": [
        "# data_loader\n",
        "def load_data(filename):\n",
        "    '''\n",
        "    parameters:\n",
        "    filename (string): datafile\n",
        "\n",
        "    Returns:\n",
        "    data (list of lists): each list is a sentence of the text\n",
        "    vocab (dictionary): {word: no of times it appears in the text}\n",
        "    '''\n",
        "    fin = io.open(filename, 'r', encoding='utf-8')\n",
        "    data = []\n",
        "    vocab = defaultdict(lambda:0)\n",
        "    for line in fin:\n",
        "        sentence = line.split()\n",
        "        data.append(sentence)\n",
        "        for word in sentence:\n",
        "            vocab[word] += 1\n",
        "    return data, vocab"
      ]
    },
    {
      "cell_type": "code",
      "source": [
        "\n",
        "print(\"load training set..\")\n",
        "print(\"\\n\")\n",
        "train_data, vocab = load_data(\"/content/drive/MyDrive/AMMI-23/nlp/Lab3/train1.txt\")\n",
        "print(train_data[0])\n",
        "print(\"\\n\")\n",
        "print(\"how :\",vocab['how'])\n",
        "print(\"load validation set\")\n",
        "valid_data, _ = load_data(\"/content/drive/MyDrive/AMMI-23/nlp/Lab3/valid1.txt\")\n"
      ],
      "metadata": {
        "colab": {
          "base_uri": "https://localhost:8080/"
        },
        "id": "4PaLFHdDTK9U",
        "outputId": "51cf1379-61c9-4145-e3c1-618a58e140fd"
      },
      "execution_count": 6,
      "outputs": [
        {
          "output_type": "stream",
          "name": "stdout",
          "text": [
            "load training set..\n",
            "\n",
            "\n",
            "['<s>', 'my', 'fathers', \"don't\", 'speak', 'dutch.', '</s>']\n",
            "\n",
            "\n",
            "how : 107\n",
            "load validation set\n"
          ]
        }
      ]
    },
    {
      "cell_type": "code",
      "execution_count": 7,
      "metadata": {
        "id": "6kfh1SAS76QE"
      },
      "outputs": [],
      "source": [
        "def remove_rare_words(data, vocab, mincount = 1):\n",
        "    '''\n",
        "    Parameters:\n",
        "    data (list of lists): each list is a sentence of the text\n",
        "    vocab (dictionary): {word: no of times it appears in the text}\n",
        "    mincount(int): the minimum count\n",
        "\n",
        "    Returns:\n",
        "    data_with_unk(list of lists): data after replacing rare words with <unk> token\n",
        "    '''\n",
        "    # replace words in data that are not in the vocab\n",
        "    # or have a count that is below mincount\n",
        "    data_with_unk = []\n",
        "    ##########################################################################\n",
        "    #                      TODO: Implement this function                     #\n",
        "    ##########################################################################\n",
        "    # Replace \"pass\" statement with your code\n",
        "    for sentence in data:\n",
        "      new_sentence = []\n",
        "      for word in sentence:\n",
        "        if vocab[word] < mincount:\n",
        "          new_sentence.append('<unk>')\n",
        "        else:\n",
        "          new_sentence.append(word)\n",
        "      data_with_unk.append(new_sentence)\n",
        "    ##########################################################################\n",
        "    #                            END OF YOUR CODE                            #\n",
        "    ##########################################################################\n",
        "\n",
        "    return data_with_unk"
      ]
    },
    {
      "cell_type": "code",
      "source": [
        "print(\"remove rare words\")\n",
        "\n",
        "train_data = remove_rare_words(train_data, vocab, mincount = 2)\n",
        "valid_data = remove_rare_words(valid_data, vocab, mincount = 1)\n",
        "#train_data\n",
        "print(train_data[0])"
      ],
      "metadata": {
        "colab": {
          "base_uri": "https://localhost:8080/"
        },
        "id": "gz-O0yudUezm",
        "outputId": "594daaac-43dc-4a39-8d63-8ae02f74dc71"
      },
      "execution_count": 8,
      "outputs": [
        {
          "output_type": "stream",
          "name": "stdout",
          "text": [
            "remove rare words\n",
            "['<s>', 'my', '<unk>', \"don't\", 'speak', '<unk>', '</s>']\n"
          ]
        }
      ]
    },
    {
      "cell_type": "code",
      "execution_count": 9,
      "metadata": {
        "id": "pNXHA3zS76QF"
      },
      "outputs": [],
      "source": [
        "def build_ngram(data, n):\n",
        "    '''\n",
        "    Parameters:\n",
        "    data (list of lists): each list is a sentence of the text\n",
        "    n (int): size of the n-gram\n",
        "\n",
        "    Returns:\n",
        "    prob (dictionary of dictionary)\n",
        "    {\n",
        "        context: {word:probability of this word given context}\n",
        "    }\n",
        "    '''\n",
        "    total_number_words = 0\n",
        "    counts = defaultdict(lambda: defaultdict(lambda: 0.0))\n",
        "\n",
        "    def _build_ngram(data,n):\n",
        "      counts = defaultdict(lambda: defaultdict(lambda: 0.0))\n",
        "      for sentence in data:\n",
        "          sentence = tuple(sentence)\n",
        "          ##########################################################################\n",
        "          #                      TODO: Implement this function                     #\n",
        "          # dict can be indexed by tuples\n",
        "          # store in the same dict all the ngrams\n",
        "          # by using the context as a key and the word as a value\n",
        "          ##########################################################################\n",
        "          # Replace \"pass\" statement with your code\n",
        "          for i in range(len(sentence) - n + 1):\n",
        "              context = tuple(sentence[i:i+n-1])\n",
        "              word = sentence[i+n-1]\n",
        "              counts[context][word] += 1\n",
        "          ##########################################################################\n",
        "          #                            END OF YOUR CODE                            #\n",
        "          ##########################################################################\n",
        "\n",
        "      prob = defaultdict(lambda: defaultdict(lambda: 0.0))\n",
        "      # Build the probabilities from the counts\n",
        "      # Be careful with how you normalize!\n",
        "\n",
        "      for context in counts.keys():\n",
        "        # p(w | context) = count(context, w)/ count(context)\n",
        "        ##########################################################################\n",
        "        #                      TODO: Implement this function                     #\n",
        "        ##########################################################################\n",
        "        # Replace \"pass\" statement with your code\n",
        "          total_count = float(sum(counts[context].values()))\n",
        "          for word in counts[context]:\n",
        "              prob[context][word] = counts[context][word] / total_count\n",
        "        ##########################################################################\n",
        "        #                            END OF YOUR CODE                            #\n",
        "        ##########################################################################\n",
        "\n",
        "      return prob\n",
        "\n",
        "    prob = defaultdict(lambda: defaultdict(lambda: 0.0)) # Replace \"...\" statement with your code\n",
        "    for i in range(1,n+1):\n",
        "      ngram_prob = _build_ngram(data, i)\n",
        "      for context in ngram_prob:\n",
        "        for word in ngram_prob[context]:\n",
        "          prob[context][word] = ngram_prob[context][word] # Replace \"...\" statement with your code\n",
        "\n",
        "    return prob"
      ]
    },
    {
      "cell_type": "code",
      "source": [
        "# RUN TO BUILD NGRAM MODEL\n",
        "n = 10\n",
        "print(\"build ngram model with n = \", n)\n",
        "model = build_ngram(train_data, n)"
      ],
      "metadata": {
        "colab": {
          "base_uri": "https://localhost:8080/"
        },
        "id": "jjsu7X-xVbkn",
        "outputId": "13f96714-b653-453e-9594-dff8fc4f0b79"
      },
      "execution_count": 24,
      "outputs": [
        {
          "output_type": "stream",
          "name": "stdout",
          "text": [
            "build ngram model with n =  10\n"
          ]
        }
      ]
    },
    {
      "cell_type": "markdown",
      "metadata": {
        "id": "KbCzRXJk76QG"
      },
      "source": [
        "Here, implement a recursive function over shorter and shorter context to compute a \"stupid backoff model\". An interpolation model can also be implemented this way."
      ]
    },
    {
      "cell_type": "code",
      "execution_count": 11,
      "metadata": {
        "id": "AbOs6Duc76QG"
      },
      "outputs": [],
      "source": [
        "def get_prob(model, context, w, alpha=0.4):\n",
        "    '''\n",
        "    Parameters:\n",
        "    model (dictionary of dictionary)\n",
        "    {\n",
        "        context: {word:probability of this word given context}\n",
        "    }\n",
        "    context (list of strings): a sentence\n",
        "    w(string): the word we need to find it's probability given the context\n",
        "\n",
        "    Retunrs:\n",
        "    prob(float): probability of this word given the context\n",
        "    '''\n",
        "\n",
        "    # code a recursive function over\n",
        "    # smaller and smaller context\n",
        "    # to compute the backoff model\n",
        "    ##########################################################################\n",
        "    #                      TODO: Implement this function                     #\n",
        "    ##########################################################################\n",
        "    # Replace \"pass\" statement with your code\n",
        "    context_tuple = tuple(context)\n",
        "    if context_tuple in model and w in model[context_tuple]:\n",
        "      return model[context_tuple][w]\n",
        "\n",
        "    if len(context) == 0:\n",
        "      return model[tuple()]['<unk>'] if '<unk>' in model[tuple()] else 0.0\n",
        "    ##########################################################################\n",
        "    #                            END OF YOUR CODE                            #\n",
        "    ##########################################################################\n",
        "\n",
        "    return alpha * get_prob(model, context[1:], w, alpha)"
      ]
    },
    {
      "cell_type": "code",
      "execution_count": 12,
      "metadata": {
        "id": "z5waVP3C76QH"
      },
      "outputs": [],
      "source": [
        "def perplexity(model, data, n):\n",
        "    '''\n",
        "    Parameters:\n",
        "    model (dictionary of dictionary)\n",
        "    {\n",
        "        context: {word:probability of this word given context}\n",
        "    }\n",
        "    data (list of lists): each list is a sentence of the text\n",
        "    n(int): size of the n-gram\n",
        "\n",
        "    Retunrs:\n",
        "    perp(float): the perplexity of the model\n",
        "    '''\n",
        "    ##########################################################################\n",
        "    #                      TODO: Implement this function                     #\n",
        "    ##########################################################################\n",
        "    # Replace \"pass\" statement with your code\n",
        "    total_log_prob = 0.0\n",
        "    total_words = 0\n",
        "\n",
        "    for sentence in data:\n",
        "      sentence = ['<s>'] * (n - 1) + sentence + ['</s>']\n",
        "      for i in range(n - 1, len(sentence)):\n",
        "        context = sentence[i - n + 1:i]\n",
        "        word = sentence[i]\n",
        "        prob = get_prob(model, context, word)\n",
        "        total_log_prob += np.log(prob) if prob > 0 else -np.inf\n",
        "        total_words += 1\n",
        "\n",
        "    avg_log_prob = total_log_prob / total_words\n",
        "    perp = np.exp(-avg_log_prob)\n",
        "    ##########################################################################\n",
        "    #                            END OF YOUR CODE                            #\n",
        "    ##########################################################################\n",
        "\n",
        "    return perp"
      ]
    },
    {
      "cell_type": "code",
      "source": [
        "# COMPUTE PERPLEXITY ON VALIDATION SET\n",
        "model = build_ngram(train_data, n)\n",
        "print(\"The perplexity is\", perplexity(model, valid_data, n=n))"
      ],
      "metadata": {
        "colab": {
          "base_uri": "https://localhost:8080/"
        },
        "id": "-hYzNJWFYttZ",
        "outputId": "be2c6777-f58d-4d71-8cba-c362a4ac5e9a"
      },
      "execution_count": 66,
      "outputs": [
        {
          "output_type": "stream",
          "name": "stdout",
          "text": [
            "The perplexity is 3975.5446718614767\n"
          ]
        }
      ]
    },
    {
      "cell_type": "code",
      "execution_count": 15,
      "metadata": {
        "id": "idrxoRlc76QH"
      },
      "outputs": [],
      "source": [
        "def get_proba_distrib(model, context):\n",
        "    ## need to get the the words after the context and their probability of appearance\n",
        "    ## after this context\n",
        "    '''\n",
        "    Parameters:\n",
        "    model (dictionary of dictionary)\n",
        "    {\n",
        "        context: {word:probability of this word given context}\n",
        "    }\n",
        "    context (list of strings): the sentence we need to find the words after it and\n",
        "    thier probabilites\n",
        "\n",
        "    Retunrs:\n",
        "    words_and_probs(dic): {word: probability of word given context}\n",
        "\n",
        "    '''\n",
        "    # code a recursive function over context\n",
        "    # to find the longest available ngram\n",
        "    ##########################################################################\n",
        "    #                      TODO: Implement this function                     #\n",
        "    ##########################################################################\n",
        "    # Replace \"pass\" statement with your code\n",
        "    context_tuple = tuple(context)\n",
        "\n",
        "    if context_tuple in model:\n",
        "      return model[context_tuple]\n",
        "\n",
        "    if len(context) == 0:\n",
        "      return model[tuple()]\n",
        "    ##########################################################################\n",
        "    #                            END OF YOUR CODE                            #\n",
        "    ##########################################################################\n",
        "\n",
        "    return get_proba_distrib(model, context[1:])"
      ]
    },
    {
      "cell_type": "code",
      "execution_count": 16,
      "metadata": {
        "id": "i_eGYoZB76QI"
      },
      "outputs": [],
      "source": [
        "def generate(model):\n",
        "    '''\n",
        "    Parameters:\n",
        "    model (dictionary of dictionary)\n",
        "    {\n",
        "        context: {word:probability of this word given context}\n",
        "    }\n",
        "\n",
        "    Retunrs:\n",
        "    sentence (list of strings): a sentence sampled according to the language model.\n",
        "\n",
        "\n",
        "    '''\n",
        "    # generate a sentence. A sentence starts with a <s> and ends with a </s>\n",
        "    # Possiblly a use function is:\n",
        "    # np.random.choice(x, 1, p = y)\n",
        "\n",
        "    # where x is a list of things to sample from\n",
        "    # and y is a list of probability (of the same length as x)\n",
        "    sentence = [\"<s>\"]\n",
        "    n =10\n",
        "    #print (model[(\"<s>\")])\n",
        "    #print (len(model[tuple(sentence)].values()))\n",
        "    while sentence[-1] != \"</s>\" and len(sentence)<10:\n",
        "        ##########################################################################\n",
        "        #                      TODO: Implement this function                     #\n",
        "        ##########################################################################\n",
        "        # Replace \"pass\" statement with your code\n",
        "        context = sentence[-(n-1):]\n",
        "        context_probs = get_proba_distrib(model, context)\n",
        "\n",
        "        if not context_probs:\n",
        "            break\n",
        "\n",
        "        words = list(context_probs.keys())\n",
        "        probs = list(context_probs.values())\n",
        "\n",
        "        next_word = np.random.choice(words, p=probs)\n",
        "        sentence.append(next_word)\n",
        "\n",
        "    if sentence[-1] != \"</s>\":\n",
        "        sentence.append(\"</s>\")\n",
        "        ##########################################################################\n",
        "        #                            END OF YOUR CODE                            #\n",
        "        ##########################################################################\n",
        "\n",
        "    return sentence"
      ]
    },
    {
      "cell_type": "code",
      "source": [
        "# GENERATE A SENTENCE FROM THE MODEL\n",
        "model = build_ngram(train_data, n)\n",
        "print(\"Generated sentence: \",generate(model))"
      ],
      "metadata": {
        "colab": {
          "base_uri": "https://localhost:8080/"
        },
        "id": "pG9nMikZavtj",
        "outputId": "4bb118ed-4bcf-439d-a294-54daa1feddd7"
      },
      "execution_count": 17,
      "outputs": [
        {
          "output_type": "stream",
          "name": "stdout",
          "text": [
            "Generated sentence:  ['<s>', 'tom', 'and', 'mary', 'said', 'they', 'intend', 'to', 'do', 'that.', '</s>']\n"
          ]
        }
      ]
    },
    {
      "cell_type": "markdown",
      "metadata": {
        "id": "XCs2pG6P76QJ"
      },
      "source": [
        "Once you are done implementing the model, evaluation and generation code, you can try changing the value of `n`, and play with a larger training set (`train2.txt` and `valid2.txt`). You can also try to implement an interpolation model."
      ]
    },
    {
      "cell_type": "code",
      "source": [
        "print(\"load training set 2..\")\n",
        "print(\"\\n\")\n",
        "train_data2, vocab = load_data(\"/content/drive/MyDrive/AMMI-23/nlp/Lab3/train2.txt\")\n",
        "print(train_data2[0])\n",
        "print(\"\\n\")\n",
        "print(\"how :\",vocab['how'])\n",
        "print(\"load validation set 2\")\n",
        "valid_data2, _ = load_data(\"/content/drive/MyDrive/AMMI-23/nlp/Lab3/valid2.txt\")\n"
      ],
      "metadata": {
        "colab": {
          "base_uri": "https://localhost:8080/"
        },
        "id": "dYXRIHCIiQ0d",
        "outputId": "d85e3601-e54e-4faf-e1e4-021038ace47d"
      },
      "execution_count": 18,
      "outputs": [
        {
          "output_type": "stream",
          "name": "stdout",
          "text": [
            "load training set 2..\n",
            "\n",
            "\n",
            "['<s>', 'i', 'liked', 'your', 'idea', 'and', 'adopted', 'it', '.', '</s>']\n",
            "\n",
            "\n",
            "how : 3195\n",
            "load validation set 2\n"
          ]
        }
      ]
    },
    {
      "cell_type": "code",
      "source": [
        "n = 3"
      ],
      "metadata": {
        "id": "xyEO8rKZB6SR"
      },
      "execution_count": 19,
      "outputs": []
    },
    {
      "cell_type": "code",
      "source": [
        "model = build_ngram(train_data2, n)"
      ],
      "metadata": {
        "id": "tq71nPJjBZRR"
      },
      "execution_count": 20,
      "outputs": []
    },
    {
      "cell_type": "code",
      "source": [
        "perplexity(model,valid_data2, n)"
      ],
      "metadata": {
        "colab": {
          "base_uri": "https://localhost:8080/"
        },
        "id": "M_xrx1KyxKf0",
        "outputId": "61d96a5a-310d-400d-a08a-972eaf0a294d"
      },
      "execution_count": 21,
      "outputs": [
        {
          "output_type": "execute_result",
          "data": {
            "text/plain": [
              "43.51208100017771"
            ]
          },
          "metadata": {},
          "execution_count": 21
        }
      ]
    },
    {
      "cell_type": "code",
      "source": [
        "generate(model)"
      ],
      "metadata": {
        "colab": {
          "base_uri": "https://localhost:8080/"
        },
        "id": "24-dOgOexSiE",
        "outputId": "8fa4e685-0074-4940-b02b-2b6654867ed4"
      },
      "execution_count": 23,
      "outputs": [
        {
          "output_type": "execute_result",
          "data": {
            "text/plain": [
              "['<s>', 'when', 'you', 'write', 'to', 'me', '.', '</s>']"
            ]
          },
          "metadata": {},
          "execution_count": 23
        }
      ]
    },
    {
      "cell_type": "code",
      "source": [],
      "metadata": {
        "id": "vZi-XqiRSifK"
      },
      "execution_count": null,
      "outputs": []
    }
  ],
  "metadata": {
    "kernelspec": {
      "display_name": "Python 3",
      "language": "python",
      "name": "python3"
    },
    "language_info": {
      "codemirror_mode": {
        "name": "ipython",
        "version": 3
      },
      "file_extension": ".py",
      "mimetype": "text/x-python",
      "name": "python",
      "nbconvert_exporter": "python",
      "pygments_lexer": "ipython3",
      "version": "3.6.2+"
    },
    "colab": {
      "provenance": []
    }
  },
  "nbformat": 4,
  "nbformat_minor": 0
}